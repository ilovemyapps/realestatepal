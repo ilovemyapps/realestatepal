{
 "cells": [
  {
   "cell_type": "markdown",
   "metadata": {},
   "source": [
    "# ADU Property Data Extraction\n",
    "\n",
    "Extract all properties with ADU or Accessory Dwelling mentions from county JSON files"
   ]
  },
  {
   "cell_type": "code",
   "execution_count": 1,
   "metadata": {},
   "outputs": [
    {
     "name": "stderr",
     "output_type": "stream",
     "text": [
      "/opt/anaconda3/lib/python3.9/site-packages/pandas/core/computation/expressions.py:21: UserWarning: Pandas requires version '2.8.4' or newer of 'numexpr' (version '2.7.3' currently installed).\n",
      "  from pandas.core.computation.check import NUMEXPR_INSTALLED\n",
      "/opt/anaconda3/lib/python3.9/site-packages/pandas/core/arrays/masked.py:61: UserWarning: Pandas requires version '1.3.6' or newer of 'bottleneck' (version '1.3.2' currently installed).\n",
      "  from pandas.core import (\n"
     ]
    }
   ],
   "source": [
    "import json\n",
    "import pandas as pd\n",
    "import os\n",
    "import glob\n",
    "import re\n",
    "from datetime import datetime"
   ]
  },
  {
   "cell_type": "code",
   "execution_count": 2,
   "metadata": {},
   "outputs": [
    {
     "name": "stdout",
     "output_type": "stream",
     "text": [
      "Found 8 county JSON files\n",
      "  - 20250822_114136_contra_costa_county_ca_contra_costa_county.json\n",
      "  - 20250822_113940_los_angeles_county_ca_los_angeles_county.json\n",
      "  - 20250822_114119_marin_county_ca_marin_county.json\n",
      "  - 20250822_114033_san_francisco_county_ca_san_francisco_county.json\n",
      "  - 20250822_114114_santa_clara_county_ca_santa_clara_county.json\n",
      "  - 20250822_114101_san_mateo_county_ca_san_mateo_county.json\n",
      "  - 20250822_114052_alameda_county_ca_alameda_county.json\n",
      "  - 20250822_114021_orange_county_ca_orange_county.json\n"
     ]
    }
   ],
   "source": [
    "# 定义数据目录路径\n",
    "data_dir = \"../data/raw/\"\n",
    "\n",
    "# 获取所有县的JSON文件\n",
    "county_files = glob.glob(os.path.join(data_dir, \"*_county_*.json\"))\n",
    "print(f\"Found {len(county_files)} county JSON files\")\n",
    "for file in county_files:\n",
    "    print(f\"  - {os.path.basename(file)}\")"
   ]
  },
  {
   "cell_type": "code",
   "execution_count": 3,
   "metadata": {},
   "outputs": [],
   "source": [
    "def extract_adu_properties(filepath):\n",
    "    \"\"\"\n",
    "    从JSON文件中提取包含ADU或Accessory Dwelling的房产\n",
    "    \n",
    "    Args:\n",
    "        filepath: JSON文件路径\n",
    "    \n",
    "    Returns:\n",
    "        list: 包含ADU相关描述的房产列表\n",
    "    \"\"\"\n",
    "    adu_properties = []\n",
    "    \n",
    "    # 定义ADU相关的关键词模式（不区分大小写）\n",
    "    adu_pattern = re.compile(r'\\b(adu|accessory\\s+dwelling|granny\\s+unit|in-?law\\s+unit|secondary\\s+unit)\\b', re.IGNORECASE)\n",
    "    \n",
    "    try:\n",
    "        with open(filepath, 'r', encoding='utf-8') as f:\n",
    "            data = json.load(f)\n",
    "            \n",
    "        # 获取县名\n",
    "        county_name = data.get('metadata', {}).get('location', 'Unknown')\n",
    "        \n",
    "        # 遍历所有房产列表\n",
    "        for listing in data.get('listings', []):\n",
    "            # 获取描述文本\n",
    "            description_text = listing.get('description', {}).get('text', '')\n",
    "            \n",
    "            # 检查是否包含ADU相关关键词\n",
    "            if description_text and adu_pattern.search(description_text):\n",
    "                # 提取关键信息\n",
    "                property_data = {\n",
    "                    # 基本信息\n",
    "                    'county': county_name,\n",
    "                    'listing_id': listing.get('listing_id', ''),\n",
    "                    'status': listing.get('status', ''),\n",
    "                    \n",
    "                    # 地址信息\n",
    "                    'address': listing.get('location', {}).get('address', {}).get('line', ''),\n",
    "                    'city': listing.get('location', {}).get('address', {}).get('city', ''),\n",
    "                    'state': listing.get('location', {}).get('address', {}).get('state_code', ''),\n",
    "                    'zip': listing.get('location', {}).get('address', {}).get('postal_code', ''),\n",
    "                    'lat': listing.get('location', {}).get('address', {}).get('coordinate', {}).get('lat', None),\n",
    "                    'lon': listing.get('location', {}).get('address', {}).get('coordinate', {}).get('lon', None),\n",
    "                    \n",
    "                    # 价格信息\n",
    "                    'price': listing.get('list_price', 0),\n",
    "                    'price_per_sqft': listing.get('price_per_sqft', 0),\n",
    "                    \n",
    "                    # 房产详情\n",
    "                    'beds': listing.get('description', {}).get('beds', 0),\n",
    "                    'baths': listing.get('description', {}).get('baths', 0),\n",
    "                    'sqft': listing.get('description', {}).get('sqft', 0),\n",
    "                    'lot_sqft': listing.get('description', {}).get('lot_sqft', 0),\n",
    "                    'year_built': listing.get('description', {}).get('year_built', 0),\n",
    "                    'garage': listing.get('description', {}).get('garage', 0),\n",
    "                    'property_type': listing.get('description', {}).get('type', ''),\n",
    "                    \n",
    "                    # ADU相关描述（保存完整描述以供后续分析）\n",
    "                    'description': description_text,\n",
    "                    \n",
    "                    # 链接\n",
    "                    'url': listing.get('href', ''),\n",
    "                    \n",
    "                    # 其他有用信息\n",
    "                    'list_date': listing.get('list_date', ''),\n",
    "                    'last_update': listing.get('last_update_date', ''),\n",
    "                    'days_on_market': listing.get('description', {}).get('days_on_market', 0)\n",
    "                }\n",
    "                \n",
    "                # 找出描述中匹配的ADU关键词\n",
    "                matches = adu_pattern.findall(description_text)\n",
    "                property_data['adu_keywords'] = ', '.join(set(matches))\n",
    "                \n",
    "                adu_properties.append(property_data)\n",
    "                \n",
    "    except Exception as e:\n",
    "        print(f\"Error processing {os.path.basename(filepath)}: {str(e)}\")\n",
    "    \n",
    "    return adu_properties"
   ]
  },
  {
   "cell_type": "code",
   "execution_count": 4,
   "metadata": {},
   "outputs": [
    {
     "name": "stdout",
     "output_type": "stream",
     "text": [
      "\n",
      "Processing 20250822_114136_contra_costa_county_ca_contra_costa_county.json...\n",
      "  Found 169 properties with ADU mentions\n",
      "  Total listings: 1504\n",
      "  ADU percentage: 11.24%\n",
      "\n",
      "Processing 20250822_113940_los_angeles_county_ca_los_angeles_county.json...\n",
      "  Found 861 properties with ADU mentions\n",
      "  Total listings: 4513\n",
      "  ADU percentage: 19.08%\n",
      "\n",
      "Processing 20250822_114119_marin_county_ca_marin_county.json...\n",
      "  Found 42 properties with ADU mentions\n",
      "  Total listings: 330\n",
      "  ADU percentage: 12.73%\n",
      "\n",
      "Processing 20250822_114033_san_francisco_county_ca_san_francisco_county.json...\n",
      "  Found 35 properties with ADU mentions\n",
      "  Total listings: 370\n",
      "  ADU percentage: 9.46%\n",
      "\n",
      "Processing 20250822_114114_santa_clara_county_ca_santa_clara_county.json...\n",
      "  Found 192 properties with ADU mentions\n",
      "  Total listings: 1366\n",
      "  ADU percentage: 14.06%\n",
      "\n",
      "Processing 20250822_114101_san_mateo_county_ca_san_mateo_county.json...\n",
      "  Found 78 properties with ADU mentions\n",
      "  Total listings: 600\n",
      "  ADU percentage: 13.00%\n",
      "\n",
      "Processing 20250822_114052_alameda_county_ca_alameda_county.json...\n",
      "  Found 226 properties with ADU mentions\n",
      "  Total listings: 1841\n",
      "  ADU percentage: 12.28%\n",
      "\n",
      "Processing 20250822_114021_orange_county_ca_orange_county.json...\n",
      "  Found 287 properties with ADU mentions\n",
      "  Total listings: 3298\n",
      "  ADU percentage: 8.70%\n",
      "\n",
      "==================================================\n",
      "Total ADU properties found: 1890\n"
     ]
    }
   ],
   "source": [
    "# 处理所有县的文件并收集ADU相关房产\n",
    "all_adu_properties = []\n",
    "county_stats = []\n",
    "\n",
    "for filepath in county_files:\n",
    "    filename = os.path.basename(filepath)\n",
    "    print(f\"\\nProcessing {filename}...\")\n",
    "    \n",
    "    # 提取ADU房产\n",
    "    adu_properties = extract_adu_properties(filepath)\n",
    "    \n",
    "    # 统计信息\n",
    "    stats = {\n",
    "        'file': filename,\n",
    "        'adu_properties_count': len(adu_properties)\n",
    "    }\n",
    "    \n",
    "    # 读取总房产数量（用于计算百分比）\n",
    "    try:\n",
    "        with open(filepath, 'r', encoding='utf-8') as f:\n",
    "            data = json.load(f)\n",
    "            total_listings = len(data.get('listings', []))\n",
    "            stats['total_listings'] = total_listings\n",
    "            stats['adu_percentage'] = (len(adu_properties) / total_listings * 100) if total_listings > 0 else 0\n",
    "    except:\n",
    "        stats['total_listings'] = 0\n",
    "        stats['adu_percentage'] = 0\n",
    "    \n",
    "    county_stats.append(stats)\n",
    "    all_adu_properties.extend(adu_properties)\n",
    "    \n",
    "    print(f\"  Found {len(adu_properties)} properties with ADU mentions\")\n",
    "    print(f\"  Total listings: {stats['total_listings']}\")\n",
    "    print(f\"  ADU percentage: {stats['adu_percentage']:.2f}%\")\n",
    "\n",
    "print(f\"\\n{'='*50}\")\n",
    "print(f\"Total ADU properties found: {len(all_adu_properties)}\")"
   ]
  },
  {
   "cell_type": "code",
   "execution_count": 5,
   "metadata": {},
   "outputs": [
    {
     "name": "stdout",
     "output_type": "stream",
     "text": [
      "ADU DataFrame Shape: (1890, 24)\n",
      "\n",
      "Columns: ['county', 'listing_id', 'status', 'address', 'city', 'state', 'zip', 'lat', 'lon', 'price', 'price_per_sqft', 'beds', 'baths', 'sqft', 'lot_sqft', 'year_built', 'garage', 'property_type', 'description', 'url', 'list_date', 'last_update', 'days_on_market', 'adu_keywords']\n",
      "\n",
      "Data types:\n",
      "county             object\n",
      "listing_id         object\n",
      "status             object\n",
      "address            object\n",
      "city               object\n",
      "state              object\n",
      "zip                object\n",
      "lat               float64\n",
      "lon               float64\n",
      "price               int64\n",
      "price_per_sqft      int64\n",
      "beds                int64\n",
      "baths               int64\n",
      "sqft              float64\n",
      "lot_sqft          float64\n",
      "year_built        float64\n",
      "garage              int64\n",
      "property_type      object\n",
      "description        object\n",
      "url                object\n",
      "list_date          object\n",
      "last_update        object\n",
      "days_on_market      int64\n",
      "adu_keywords       object\n",
      "dtype: object\n"
     ]
    }
   ],
   "source": [
    "# 创建主DataFrame\n",
    "adu_df = pd.DataFrame(all_adu_properties)\n",
    "\n",
    "# 显示基本信息\n",
    "print(f\"ADU DataFrame Shape: {adu_df.shape}\")\n",
    "print(f\"\\nColumns: {list(adu_df.columns)}\")\n",
    "print(f\"\\nData types:\")\n",
    "print(adu_df.dtypes)"
   ]
  },
  {
   "cell_type": "code",
   "execution_count": 6,
   "metadata": {},
   "outputs": [
    {
     "name": "stdout",
     "output_type": "stream",
     "text": [
      "Data cleaning and feature engineering completed\n"
     ]
    }
   ],
   "source": [
    "# 数据清理和类型转换\n",
    "# 转换数值类型\n",
    "numeric_columns = ['price', 'price_per_sqft', 'beds', 'baths', 'sqft', 'lot_sqft', \n",
    "                   'year_built', 'garage', 'days_on_market', 'lat', 'lon']\n",
    "\n",
    "for col in numeric_columns:\n",
    "    if col in adu_df.columns:\n",
    "        adu_df[col] = pd.to_numeric(adu_df[col], errors='coerce')\n",
    "\n",
    "# 转换日期类型\n",
    "date_columns = ['list_date', 'last_update']\n",
    "for col in date_columns:\n",
    "    if col in adu_df.columns:\n",
    "        adu_df[col] = pd.to_datetime(adu_df[col], errors='coerce')\n",
    "\n",
    "# 计算一些有用的衍生指标\n",
    "# 地块利用率（房屋面积/地块面积）\n",
    "adu_df['lot_utilization'] = adu_df['sqft'] / adu_df['lot_sqft']\n",
    "adu_df['lot_utilization'] = adu_df['lot_utilization'].replace([float('inf'), -float('inf')], 0)\n",
    "\n",
    "# 剩余可建面积（粗略估计）\n",
    "adu_df['remaining_lot_sqft'] = adu_df['lot_sqft'] - adu_df['sqft']\n",
    "\n",
    "# 每间卧室的价格\n",
    "adu_df['price_per_bedroom'] = adu_df['price'] / adu_df['beds']\n",
    "adu_df['price_per_bedroom'] = adu_df['price_per_bedroom'].replace([float('inf'), -float('inf')], 0)\n",
    "\n",
    "print(\"Data cleaning and feature engineering completed\")"
   ]
  },
  {
   "cell_type": "code",
   "execution_count": 7,
   "metadata": {},
   "outputs": [
    {
     "name": "stdout",
     "output_type": "stream",
     "text": [
      "\n",
      "==================================================\n",
      "Sample ADU Properties (First 5 rows)\n",
      "==================================================\n",
      "                    county         city          address    price  \\\n",
      "0  Contra Costa County, CA       Pinole    948 Jones Ave   899998   \n",
      "1  Contra Costa County, CA        Rodeo    1343 Sixth St   700000   \n",
      "2  Contra Costa County, CA      Concord  1950 Emerald St   850000   \n",
      "3  Contra Costa County, CA       Albany   1235 Marin Ave  1150000   \n",
      "4  Contra Costa County, CA  El Sobrante   615 Stanley Ln   975000   \n",
      "\n",
      "   price_per_sqft    sqft  lot_sqft  beds  baths adu_keywords  \n",
      "0               0  1651.0   17424.0     3      2          ADU  \n",
      "1               0   775.0   10500.0     2      1          ADU  \n",
      "2               0  1484.0    9750.0     4      2          ADU  \n",
      "3               0  1510.0    5000.0     4      2          ADU  \n",
      "4               0  2533.0   26001.0     5      3          ADU  \n"
     ]
    }
   ],
   "source": [
    "# 显示前几行数据作为示例\n",
    "print(\"\\n\" + \"=\"*50)\n",
    "print(\"Sample ADU Properties (First 5 rows)\")\n",
    "print(\"=\"*50)\n",
    "\n",
    "# 选择关键列显示\n",
    "display_columns = ['county', 'city', 'address', 'price', 'price_per_sqft', \n",
    "                   'sqft', 'lot_sqft', 'beds', 'baths', 'adu_keywords']\n",
    "\n",
    "if len(adu_df) > 0:\n",
    "    print(adu_df[display_columns].head())\n",
    "else:\n",
    "    print(\"No ADU properties found\")"
   ]
  },
  {
   "cell_type": "markdown",
   "metadata": {},
   "source": [
    "## Next Steps\n",
    "\n",
    "现在你有了 `adu_df` DataFrame，包含了所有提及ADU的房产数据。你可以：\n",
    "\n",
    "1. 进一步分析这些房产的特征\n",
    "2. 筛选出最适合ADU开发的房产\n",
    "3. 与zoning数据交叉验证\n",
    "4. 计算潜在的投资回报率"
   ]
  },
  {
   "cell_type": "code",
   "execution_count": 10,
   "metadata": {},
   "outputs": [],
   "source": [
    "#display adu_df.shape\n",
    "adu_df.shape\n",
    "#save to data/processed/adu_df.csv\n",
    "adu_df.to_csv('../data/processed/adu_df.csv', index=False)"
   ]
  }
 ],
 "metadata": {
  "kernelspec": {
   "display_name": "base",
   "language": "python",
   "name": "python3"
  },
  "language_info": {
   "codemirror_mode": {
    "name": "ipython",
    "version": 3
   },
   "file_extension": ".py",
   "mimetype": "text/x-python",
   "name": "python",
   "nbconvert_exporter": "python",
   "pygments_lexer": "ipython3",
   "version": "3.9.7"
  }
 },
 "nbformat": 4,
 "nbformat_minor": 4
}
